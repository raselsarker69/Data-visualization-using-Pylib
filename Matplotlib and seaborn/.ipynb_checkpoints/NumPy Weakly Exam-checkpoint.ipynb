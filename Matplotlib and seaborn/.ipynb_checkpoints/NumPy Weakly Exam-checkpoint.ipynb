{
 "cells": [
  {
   "cell_type": "code",
   "execution_count": 13,
   "id": "563242f2-f398-43fa-ad54-d8cfc1e9fa27",
   "metadata": {},
   "outputs": [
    {
     "name": "stdout",
     "output_type": "stream",
     "text": [
      "[3 4]\n"
     ]
    }
   ],
   "source": [
    "import numpy as np\n",
    "\n",
    "# Defining the matrix with proper commas\n",
    "matrix = np.array([\n",
    "    [1, 2],\n",
    "    [3, 4],\n",
    "    [5, 6]\n",
    "])\n",
    "\n",
    "#adv_matrix = matrix[2:, 1:]\n",
    "#adv_matrix = matrix[1:, 2:]\n",
    "#adv_matrix = matrix[2:, 2:]\n",
    "adv_matrix = matrix[1, -2:] \n",
    "#adv_matrix = matrix[2:, 3:]\n",
    "print(adv_matrix)"
   ]
  },
  {
   "cell_type": "code",
   "execution_count": null,
   "id": "0e6ccb26-45cf-4ad0-b452-ceba3d6e94c3",
   "metadata": {},
   "outputs": [],
   "source": []
  },
  {
   "cell_type": "code",
   "execution_count": 17,
   "id": "7be2fde4-0b1d-4036-9383-e289e04f9d68",
   "metadata": {},
   "outputs": [
    {
     "name": "stdout",
     "output_type": "stream",
     "text": [
      "Result of broadcasting a * b:\n",
      " [[ 4 10 18]]\n",
      "Broadcast shape: (1, 3)\n"
     ]
    }
   ],
   "source": [
    "import numpy as np\n",
    "\n",
    "a = np.array([[1,2,3]]) \n",
    "b = np.array([4, 5, 6])      \n",
    "\n",
    "result = a * b\n",
    "print(\"Result of broadcasting a * b:\\n\", result)\n",
    "\n",
    "b_broadcast = np.broadcast(a, b)\n",
    "print(\"Broadcast shape:\", b_broadcast.shape)"
   ]
  },
  {
   "cell_type": "code",
   "execution_count": null,
   "id": "70c5d7b1-3490-45db-bf0b-3b7a4ff670a2",
   "metadata": {},
   "outputs": [],
   "source": []
  },
  {
   "cell_type": "code",
   "execution_count": 23,
   "id": "7bd7d713-1de5-4567-bf9c-e18a8c3f6aa9",
   "metadata": {},
   "outputs": [
    {
     "data": {
      "text/plain": [
       "array([], shape=(0, 10, 3), dtype=float64)"
      ]
     },
     "execution_count": 23,
     "metadata": {},
     "output_type": "execute_result"
    }
   ],
   "source": [
    "x = np.random.randn(0,10,3)  # 0 means no sarphage\n",
    "x"
   ]
  },
  {
   "cell_type": "code",
   "execution_count": null,
   "id": "51cec0d0-a5b3-4cf7-be0e-4e8d2219cd14",
   "metadata": {},
   "outputs": [],
   "source": []
  },
  {
   "cell_type": "code",
   "execution_count": null,
   "id": "07d398f4-2e2e-49c7-bab2-9cdd35677f2f",
   "metadata": {},
   "outputs": [],
   "source": []
  }
 ],
 "metadata": {
  "kernelspec": {
   "display_name": "Python 3 (ipykernel)",
   "language": "python",
   "name": "python3"
  },
  "language_info": {
   "codemirror_mode": {
    "name": "ipython",
    "version": 3
   },
   "file_extension": ".py",
   "mimetype": "text/x-python",
   "name": "python",
   "nbconvert_exporter": "python",
   "pygments_lexer": "ipython3",
   "version": "3.11.8"
  }
 },
 "nbformat": 4,
 "nbformat_minor": 5
}
